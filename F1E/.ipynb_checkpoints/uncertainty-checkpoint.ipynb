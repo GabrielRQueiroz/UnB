{
 "cells": [
  {
   "cell_type": "code",
   "execution_count": 2,
   "id": "4f38ddd4-eea4-477f-a6a9-6a64bd084370",
   "metadata": {},
   "outputs": [
    {
     "data": {
      "text/plain": [
       "['acos',\n",
       " 'acosh',\n",
       " 'asin',\n",
       " 'asinh',\n",
       " 'atan',\n",
       " 'atan2',\n",
       " 'atanh',\n",
       " 'ceil',\n",
       " 'copysign',\n",
       " 'cos',\n",
       " 'cosh',\n",
       " 'degrees',\n",
       " 'erf',\n",
       " 'erfc',\n",
       " 'exp',\n",
       " 'expm1',\n",
       " 'fabs',\n",
       " 'floor',\n",
       " 'fmod',\n",
       " 'gamma',\n",
       " 'hypot',\n",
       " 'isinf',\n",
       " 'isnan',\n",
       " 'lgamma',\n",
       " 'log',\n",
       " 'log10',\n",
       " 'log1p',\n",
       " 'pow',\n",
       " 'radians',\n",
       " 'sin',\n",
       " 'sinh',\n",
       " 'sqrt',\n",
       " 'tan',\n",
       " 'tanh',\n",
       " 'trunc',\n",
       " 'modf',\n",
       " 'ldexp',\n",
       " 'factorial',\n",
       " 'fsum',\n",
       " 'frexp']"
      ]
     },
     "execution_count": 2,
     "metadata": {},
     "output_type": "execute_result"
    }
   ],
   "source": [
    "from uncertainties import ufloat\n",
    "from uncertainties.umath import __all__\n",
    "__all__"
   ]
  },
  {
   "cell_type": "code",
   "execution_count": 8,
   "id": "471e77bd-c546-460f-96b8-fa3710a50be3",
   "metadata": {},
   "outputs": [],
   "source": [
    "A = ufloat(0.00780, 0.0002)\n",
    "B = ufloat(0.0064, 0.000025)\n",
    "C = ufloat(4, 0.5)\n",
    "D = ufloat(3, 0.2)"
   ]
  },
  {
   "cell_type": "code",
   "execution_count": 9,
   "id": "65cb900f-2584-45c8-8aac-469fa2c3c5a3",
   "metadata": {},
   "outputs": [
    {
     "data": {
      "text/plain": [
       "(0.8205128205128206+/-0.021281530556278606, 12.0+/-1.7)"
      ]
     },
     "execution_count": 9,
     "metadata": {},
     "output_type": "execute_result"
    }
   ],
   "source": [
    "B/A, C*D"
   ]
  }
 ],
 "metadata": {
  "kernelspec": {
   "display_name": "Python 3 (ipykernel)",
   "language": "python",
   "name": "python3"
  },
  "language_info": {
   "codemirror_mode": {
    "name": "ipython",
    "version": 3
   },
   "file_extension": ".py",
   "mimetype": "text/x-python",
   "name": "python",
   "nbconvert_exporter": "python",
   "pygments_lexer": "ipython3",
   "version": "3.8.10"
  }
 },
 "nbformat": 4,
 "nbformat_minor": 5
}
