{
 "cells": [
  {
   "cell_type": "code",
   "execution_count": 53,
   "id": "a3b6d10f-0606-4ecc-b575-3ba47374b876",
   "metadata": {},
   "outputs": [],
   "source": [
    "# For: { x + 3y = 20\n",
    "#      { 3x + 5y = 44\n",
    "#\n",
    "# A = [[1 3] \n",
    "#      [3 5]]\n",
    "#\n",
    "# B = [[20]\n",
    "#      [44]]\n",
    "#\n",
    "# X = [[x]\n",
    "#      [y]]\n",
    "#\n",
    "# X = inverse(A).B => inv() & dot()\n",
    "\n",
    "# system format: {\"variables\": [\"x\",\"y\"], \"values\": {0: [1,3], 1: [3,5]}, \"totals\": {0: 20, 1: 44}}"
   ]
  },
  {
   "cell_type": "code",
   "execution_count": 67,
   "id": "769b2633-7150-4166-bb24-727586faf80a",
   "metadata": {},
   "outputs": [
    {
     "name": "stdout",
     "output_type": "stream",
     "text": [
      "{'variables': ['x', 'y'], 'values': {0: [1, 3], 1: [3, 5]}, 'totals': {0: 20, 1: 44}}\n",
      "['x', 'y']\n",
      "x\n",
      "2\n",
      "2\n",
      "dict_values([[1, 3], [3, 5]])\n"
     ]
    }
   ],
   "source": [
    "demo_system = {\"variables\": [\"x\",\"y\"], \"values\": {0: [1,3], 1: [3,5]}, \"totals\": {0: 20, 1: 44}}\n",
    "\n",
    "print(demo_system)\n",
    "print(demo_system[\"variables\"])\n",
    "print(demo_system[\"variables\"][0])\n",
    "print(len(demo_system[\"variables\"]))\n",
    "print(len(demo_system[\"values\"]))\n",
    "X = demo_system[\"values\"].values()\n",
    "print(X)"
   ]
  },
  {
   "cell_type": "code",
   "execution_count": 64,
   "id": "9e81f73a-5608-4a78-990b-65f69b8b0cde",
   "metadata": {},
   "outputs": [],
   "source": [
    "import numpy as np\n",
    "from numpy.linalg import inv, solve"
   ]
  },
  {
   "cell_type": "code",
   "execution_count": 68,
   "id": "3e7f1c9a-1b01-444e-80d6-342c967d1374",
   "metadata": {},
   "outputs": [],
   "source": [
    "def sys_solver(system):\n",
    "    variables_amount = len(system[\"variables\"])\n",
    "    A_list = []\n",
    "    B_list = []\n",
    "    \n",
    "    for value in range(len(system[\"values\"])):\n",
    "        A_list.append(system[\"values\"][value])\n",
    "        B_list.append(system[\"totals\"][value])\n",
    "    \n",
    "    A_list = np.array(A_list)\n",
    "    B_list = np.array(B_list)\n",
    "    \n",
    "    X_list = inv(A_list).dot(B_list)\n",
    "    X_list2 = solve(A_list,B_list)\n",
    "    \n",
    "    print(X_list)\n",
    "    print(X_list2)"
   ]
  },
  {
   "cell_type": "code",
   "execution_count": 69,
   "id": "688a307b-7012-4996-ab1a-d181130f1c84",
   "metadata": {},
   "outputs": [
    {
     "name": "stdout",
     "output_type": "stream",
     "text": [
      "[8. 4.]\n",
      "[8. 4.]\n"
     ]
    }
   ],
   "source": [
    "sys_solver(demo_system)"
   ]
  },
  {
   "cell_type": "code",
   "execution_count": null,
   "id": "9549f713-8588-487a-9d86-9571a3e08c25",
   "metadata": {},
   "outputs": [],
   "source": []
  }
 ],
 "metadata": {
  "kernelspec": {
   "display_name": "Python 3 (ipykernel)",
   "language": "python",
   "name": "python3"
  },
  "language_info": {
   "codemirror_mode": {
    "name": "ipython",
    "version": 3
   },
   "file_extension": ".py",
   "mimetype": "text/x-python",
   "name": "python",
   "nbconvert_exporter": "python",
   "pygments_lexer": "ipython3",
   "version": "3.8.10"
  }
 },
 "nbformat": 4,
 "nbformat_minor": 5
}
